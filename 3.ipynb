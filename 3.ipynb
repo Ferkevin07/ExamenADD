{
 "cells": [
  {
   "cell_type": "code",
   "execution_count": 1,
   "id": "60f9744a",
   "metadata": {},
   "outputs": [],
   "source": [
    "import requests\n",
    "from bs4 import BeautifulSoup\n",
    "from pymongo import MongoClient\n",
    "import pandas as pd\n",
    "import bson\n",
    "from bson.raw_bson import RawBSONDocument\n",
    "\n",
    "db_client = MongoClient()\n",
    "my_db = db_client.cursos\n",
    "my_posts = my_db.posts\n",
    "    \n",
    "def find_2nd(string, substring):\n",
    "    return string.find(substring, string.find(substring) + 1)\n",
    "def find_1st(string, substring):\n",
    "    return string.find(substring, string.find(substring))   "
   ]
  },
  {
   "cell_type": "code",
   "execution_count": 7,
   "id": "22e02c3f",
   "metadata": {},
   "outputs": [
    {
     "name": "stdout",
     "output_type": "stream",
     "text": [
      "[<h3 class=\"entry-title\"><a href=\"https://www.teleamazonas.com/condenan-a-cinco-anos-de-prision-al-asesino-de-gatos-de-brighton/\">Condenan a cinco años de prisión al ‘asesino de gatos de Brighton’</a></h3>, <h3 class=\"entry-title\"><a href=\"https://www.teleamazonas.com/informe-revela-que-variante-delta-se-transmite-tambien-entre-los-vacunados/\">Informe revela que variante delta se transmite también entre los vacunados</a></h3>, <h3 class=\"entry-title\"><a href=\"https://www.teleamazonas.com/excardenal-theodore-mccarrick-es-acusado-en-eee-uu-de-ataque-sexual-contra-un-menor/\">Excardenal Theodore McCarrick es acusado en EEE.UU de ataque sexual contra un menor</a></h3>, <h3 class=\"entry-title\"><a href=\"https://www.teleamazonas.com/el-ritual-de-una-judoca-y-su-entrenador-antes-de-competir-en-tokio-2020/\">El ritual de una judoca y su entrenador antes de competir en Tokio 2020</a></h3>, <h3 class=\"entry-title\"><a href=\"https://www.teleamazonas.com/carlos-loaiza-analiza-propuestas-empresariales-para-generacion-de-empleo/\">Carlos Loaiza analiza factores para la generación de empleo en Ecuador</a></h3>, <h3 class=\"entry-title\"><a href=\"https://www.teleamazonas.com/maria-eulalia-silva-analiza-las-cifras-de-explotacion-minera/\">María Eulalia Silva analiza las cifras de producción minera</a></h3>, <h3 class=\"entry-title\"><a href=\"https://www.teleamazonas.com/juan-zapata-habla-sobre-la-renovacion-del-estado-de-excepcion/\">Juan Zapata analiza la renovación del Estado de Excepción</a></h3>, <h3 class=\"entry-title\"><a href=\"https://www.teleamazonas.com/michael-fitzpatrick-comenta-sobre-relacion-entre-ee-uu-y-ecuador/\">Michael Fitzpatrick analiza cooperación de Estados Unidos con Ecuador</a></h3>, <h3 class=\"entry-title\"><a href=\"https://www.teleamazonas.com/fernando-espinoza-analiza-la-presencia-de-la-variante-delta-en-ecuador/\">Fernando Espinoza analiza presencia de variante Delta en Ecuador</a></h3>, <h3 class=\"entry-title\"><a href=\"https://www.teleamazonas.com/color-rosa-de-laguna-argentina-alerta-a-ambientalistas/\">Color rosa de laguna argentina alerta a ambientalistas</a></h3>, <h3 class=\"entry-title\"><a href=\"https://www.teleamazonas.com/broadway-requerira-vacunas-y-mascarillas-a-su-audiencias/\">Broadway requerirá vacunas y mascarillas a su audiencia</a></h3>, <h3 class=\"entry-title\"><a href=\"https://www.teleamazonas.com/la-viuda-de-moise-dice-que-considera-postularse-a-la-presidencia-de-haiti/\">La viuda de Moise dice que considera postularse a la Presidencia de Haití</a></h3>, <h3 class=\"entry-title\"><a href=\"https://www.teleamazonas.com/la-union-de-j-balvin-y-metallica-desata-polemica-entre-rockeros/\">La unión de J Balvin y Metallica desata polémica entre rockeros</a></h3>, <h3 class=\"entry-title\"><a href=\"https://www.teleamazonas.com/desechos-pesqueros-tinen-de-rosa-lagunas-en-la-patagonia-argentina/\">Desechos pesqueros tiñen de rosa lagunas en la Patagonia argentina</a></h3>, <h3 class=\"entry-title\"><a href=\"https://www.teleamazonas.com/un-hombre-sobrevive-a-los-ataques-de-un-oso-pardo-en-alaska/\">Un hombre sobrevive a los ataques de un oso pardo en Alaska</a></h3>, <h3 class=\"entry-title\"><a href=\"https://www.teleamazonas.com/una-rata-irrumpe-en-el-parlamento-andaluz/\">Una rata irrumpe en el Parlamento andaluz</a></h3>, <h3 class=\"entry-title\"><a href=\"https://www.teleamazonas.com/impactante-asi-luce-la-mujer-con-los-labios-mas-grandes-del-mundo/\">¡Impactante! Así luce la mujer con los labios más grandes del mundo</a></h3>, <h3 class=\"entry-title\"><a href=\"https://www.teleamazonas.com/el-reto-viral-que-podria-revelar-que-tienes-problemas-de-vision/\">El reto viral que podría revelar que tienes problemas de visión</a></h3>, <h3 class=\"entry-title\"><a href=\"https://www.teleamazonas.com/dos-mujeres-caen-el-abismo-tras-romperse-un-columpio/\">Dos mujeres caen el abismo tras romperse un columpio</a></h3>, <h3 class=\"entry-title\"><a href=\"https://www.teleamazonas.com/padres-envian-a-su-hija-a-una-isla-desierta-como-castigo/\">Padres envían a su hija a una isla desierta como castigo</a></h3>, <h3 class=\"entry-title\"><a href=\"https://www.teleamazonas.com/la-vaca-mas-pequena-del-mundo-causa-sensacion-en-banglades/\">La vaca más pequeña del mundo causa sensación en Bangladés</a></h3>, <h3 class=\"entry-title\"><a href=\"https://www.teleamazonas.com/el-castillo-de-arena-mas-alto-del-mundo-se-construyo-en-dinamarca/\">El castillo de arena más alto del mundo se construyó en Dinamarca</a></h3>, <h3 class=\"entry-title\"><a href=\"https://www.teleamazonas.com/mal-aliento/\">Mal aliento</a></h3>, <h3 class=\"entry-title\"><a href=\"https://www.teleamazonas.com/fermentos-2da-parte/\">Fermentos – 2da parte</a></h3>, <h3 class=\"entry-title\"><a href=\"https://www.teleamazonas.com/fermentos/\">Fermentos</a></h3>, <h3 class=\"entry-title\"><a href=\"https://www.teleamazonas.com/conjuro/\">«El diablo me hizo hacerlo» el caso real del conjuro 3</a></h3>, <h3 class=\"entry-title\"><a href=\"https://www.teleamazonas.com/collage/\">La curiosa técnica del collage en toda su creatividad</a></h3>, <h3 class=\"entry-title\"><a href=\"https://www.teleamazonas.com/animales/\">Los animales que pueden ver espíritus y fantasmas</a></h3>, <h3 class=\"entry-title\"><a href=\"https://www.teleamazonas.com/estudio-los-vacunados-pueden-portar-tanto-virus-como-otros/\">Estudio: Los vacunados pueden portar tanto virus como otros</a></h3>, <h3 class=\"entry-title\"><a href=\"https://www.teleamazonas.com/condenan-a-cinco-anos-de-prision-al-asesino-de-gatos-de-brighton/\">Condenan a cinco años de prisión al ‘asesino de gatos de Brighton’</a></h3>, <h3 class=\"entry-title\"><a href=\"https://www.teleamazonas.com/gooding-jr-deberia-millones-por-ignorar-demanda-de-violacion/\">Gooding Jr. debería millones por ignorar demanda de violación</a></h3>, <h3 class=\"entry-title\"><a href=\"https://www.teleamazonas.com/teatros-de-broadway-exigiran-vacunacion-y-el-uso-de-mascarillas-para-asistir-a-sus-espectaculos/\">Teatros de Broadway exigirán vacunación y el uso de mascarillas para asistir a sus espectáculos</a></h3>, <h3 class=\"entry-title\"><a href=\"https://www.teleamazonas.com/patrimonio-de-michael-jackson-vive-un-nuevo-renacer/\">Patrimonio de Michael Jackson vive un nuevo renacer</a></h3>, <h3 class=\"entry-title\"><a href=\"https://www.teleamazonas.com/otra-demanda-a-disney-emma-stone-estaria-evaluandolo-por-el-estreno-de-cruella/\">¿Otra demanda a Disney? Emma Stone estaría evaluándolo por el estreno de Cruella</a></h3>, <h3 class=\"entry-title\"><a href=\"https://www.teleamazonas.com/timo-presenta-su-tema-espejito-espejito/\">‘Espejito, espejito’ es la nueva canción de TIMO</a></h3>, <h3 class=\"entry-title\"><a href=\"https://www.teleamazonas.com/edith-marquez-canta-con-david-bisbal/\">Edith Márquez presenta ‘Es Complicado’ junto a David Bisbal</a></h3>, <h3 class=\"entry-title\"><a href=\"https://www.teleamazonas.com/jhay-cortez-le-canta-a-mia-khalifa-en-su-nueva-cancion/\">Jhay Cortez le canta a Mia Khalifa en el video de ‘En Mi Cuarto’</a></h3>, <h3 class=\"entry-title\"><a href=\"https://www.teleamazonas.com/lo-mejor-de-jhay-cortez/\">Lo mejor de Jhay Cortez</a></h3>, <h3 class=\"entry-title\"><a href=\"https://www.teleamazonas.com/estudio-los-vacunados-pueden-portar-tanto-virus-como-otros/\">Estudio: Los vacunados pueden portar tanto virus como otros</a></h3>, <h3 class=\"entry-title\"><a href=\"https://www.teleamazonas.com/gimnastas-de-alemania-y-sus-uniformes-para-evitar-la-sexualizacion-de-su-deporte/\">Gimnastas de Alemania y sus uniformes para evitar la ‘sexualización’ de su deporte</a></h3>, <h3 class=\"entry-title\"><a href=\"https://www.teleamazonas.com/color-rosa-de-laguna-argentina-alerta-a-ambientalistas/\">Color rosa de laguna argentina alerta a ambientalistas</a></h3>, <h3 class=\"entry-title\"><a href=\"https://www.teleamazonas.com/condenan-a-cinco-anos-de-prision-al-asesino-de-gatos-de-brighton/\">Condenan a cinco años de prisión al ‘asesino de gatos de Brighton’</a></h3>, <h3 class=\"entry-title\"><a href=\"https://www.teleamazonas.com/eeuu-seleccion-masculina-apoya-demanda-salarial-de-femenina/\">EEUU: Selección masculina apoya demanda salarial de femenina</a></h3>, <h3 class=\"entry-title\"><a href=\"https://www.teleamazonas.com/gooding-jr-deberia-millones-por-ignorar-demanda-de-violacion/\">Gooding Jr. debería millones por ignorar demanda de violación</a></h3>, <h3 class=\"entry-title\"><a href=\"https://www.teleamazonas.com/teatros-de-broadway-exigiran-vacunacion-y-el-uso-de-mascarillas-para-asistir-a-sus-espectaculos/\">Teatros de Broadway exigirán vacunación y el uso de mascarillas para asistir a sus espectáculos</a></h3>, <h3 class=\"entry-title\"><a href=\"https://www.teleamazonas.com/broadway-requerira-vacunas-y-mascarillas-a-su-audiencias/\">Broadway requerirá vacunas y mascarillas a su audiencia</a></h3>, <h3 class=\"entry-title\"><a href=\"https://www.teleamazonas.com/flamengo-recibira-al-olimpia-con-publico-en-el-maracana-por-la-libertadores/\">Flamengo recibirá al Olimpia con público en el Maracaná por la Libertadores</a></h3>, <h3 class=\"entry-title\"><a href=\"https://www.teleamazonas.com/la-viuda-de-moise-dice-que-considera-postularse-a-la-presidencia-de-haiti/\">La viuda de Moise dice que considera postularse a la Presidencia de Haití</a></h3>]\n",
      "--------\n",
      "['', '', '', '', '', '', '', '', '', '', '', '', '', '', '', '', '', '', '', '', '', '', '', '', '', '', '', '', '', '', '', '', '', '', '', '', '', '', '', '', '', '', '', '', '', '', '', '']\n"
     ]
    }
   ],
   "source": [
    "response = requests.get(\"https://www.teleamazonas.com/\")\n",
    "soup = BeautifulSoup(response.content, \"lxml\")\n",
    "\n",
    "Contenidos=[]\n",
    "Provider=[]\n",
    "Duration=[]\n",
    "Start_Date=[]\n",
    "Offered_By=[]\n",
    "No_Of_Reviews=[]\n",
    "Rating=[]\n",
    "\n",
    "\n",
    "\n",
    "\n",
    "\n",
    "contenido = soup.find_all(\"h3\", class_=\"entry-title\")\n",
    "#contenido=soup.find_all(\"p\", class_=\"css-oemrl2\")\n",
    "\n",
    "\n",
    "'''post_course=soup.find_all(\"span\", class_=\"text-1 weight-semi line-tight\")\n",
    "post_provider=soup.find_all(\"a\", class_=\"color-charcoal italic\")'''\n",
    "\n",
    "extracted = []\n",
    "    \n",
    "for element in contenido:\n",
    "    #print(element)\n",
    "    element=str(element)\n",
    "    limpio=str(element[find_1st(element, '>')+1:find_2nd(element,'<')])\n",
    "\n",
    "    #print (limpio)\n",
    "    Contenidos.append(limpio.strip())\n",
    "\n",
    "\n",
    "    \n",
    "    '''\n",
    "for element in post_provider:\n",
    "    #print(element)\n",
    "    element=str(element)\n",
    "    limpio=str(element[find_1st(element, '>')+1:find_2nd(element,'<')])\n",
    "    #print (limpio)\n",
    "    Provider.append(limpio.strip())\n",
    "\n",
    "\n",
    "        extracted.append({\n",
    "            'Course' : post_title['data-track-click'],\n",
    "            'Duration'  : \"\",\n",
    "            'Start_Date':\"\",\n",
    "            'Offered_By':\"\",\n",
    "            'No_Of_Reviews':\"\",\n",
    "            'Rating':\"\"\n",
    "        })\n",
    "\n",
    "    for post in extracted:\n",
    "        if db_client.my_db.my_posts.find_one({'link': post['link']}) is None:\n",
    "            print(\"Found a new listing at the following url: \", post['link'])\n",
    "            db_client.my_db.my_posts.insert(post)\n",
    "'''\n",
    "\n",
    "print(contenido)\n",
    "print(\"--------\")\n",
    "print (Contenidos)"
   ]
  },
  {
   "cell_type": "code",
   "execution_count": null,
   "id": "09bbf421",
   "metadata": {},
   "outputs": [],
   "source": []
  }
 ],
 "metadata": {
  "kernelspec": {
   "display_name": "Python 3",
   "language": "python",
   "name": "python3"
  },
  "language_info": {
   "codemirror_mode": {
    "name": "ipython",
    "version": 3
   },
   "file_extension": ".py",
   "mimetype": "text/x-python",
   "name": "python",
   "nbconvert_exporter": "python",
   "pygments_lexer": "ipython3",
   "version": "3.9.5"
  }
 },
 "nbformat": 4,
 "nbformat_minor": 5
}
